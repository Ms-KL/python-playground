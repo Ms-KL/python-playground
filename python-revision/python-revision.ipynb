{
 "cells": [
  {
   "attachments": {},
   "cell_type": "markdown",
   "metadata": {},
   "source": [
    "## Terminal\n",
    "Resources: [She Codes Plus Content](https://shecodes.thinkific.com/courses/take/she-codes-plus-perth-22-23/pdfs/38847800-crash-course-in-the-command-line), [VSCode.one](https://vscode.one/start-vscode-from-terminal/), [Make Use Of](https://www.makeuseof.com/tag/essential-windows-cmd-commands/)"
   ]
  },
  {
   "attachments": {},
   "cell_type": "markdown",
   "metadata": {},
   "source": [
    "* Install: [python.org](https://www.python.org/)\n",
    "* Check installed: `python`\n",
    "* Check python version: `python --version`\n",
    "* Run python files: `python name-of-file.py` or `python3 name-of-file.py`\n",
    "* Open folder in VSCode: `code name-of-folder` or `code .`\n",
    "* Change Directory: `cd folder-name`\n",
    "* Make Directory: `mkdir folder-name`\n",
    "* List contents of Directory: `ls` or `dir`\n",
    "* Run code directly in command line: `python` or `py`\n",
    "    * Code as appropriate: `print(\"Hello, World!\")`\n",
    "    * When finished in python: `exit()`\n",
    "\n",
    "<br>\n",
    "\n",
    "* OSX & Linux:\n",
    "    * VS Code\n",
    "    * Command Palette (`Ctrl` + `Shift` + `P`)\n",
    "    * `shell command` to find: \n",
    "        * `Shell Command: Install 'code' command in PATH` + `enter`/`return`\n"
   ]
  },
  {
   "attachments": {},
   "cell_type": "markdown",
   "metadata": {},
   "source": [
    "## Core"
   ]
  },
  {
   "attachments": {},
   "cell_type": "markdown",
   "metadata": {},
   "source": [
    "### Print and Comments"
   ]
  },
  {
   "cell_type": "code",
   "execution_count": 37,
   "metadata": {},
   "outputs": [
    {
     "name": "stdout",
     "output_type": "stream",
     "text": [
      "Output 1: hello world\n",
      "Output 2: ('apple', 'banana', 'orange')\n",
      "Output 3: --- second element in list --- third element in list\n"
     ]
    },
    {
     "data": {
      "text/plain": [
       "'\\nthis is a docstring\\ngood for multiline comments\\n'"
      ]
     },
     "execution_count": 37,
     "metadata": {},
     "output_type": "execute_result"
    }
   ],
   "source": [
    "print(\"Output 1: hello world\")\n",
    "\n",
    "list = (\"apple\", \"banana\", \"orange\")\n",
    "print(\"Output 2:\", list)\n",
    "# , to add multiple items in print\n",
    "\n",
    "print(\"Output 3:\", \"second element in list\", \"third element in list\", sep=\" --- \")\n",
    "# separates the elements with specified separator\n",
    "\n",
    "\"\"\"\n",
    "this is a docstring\n",
    "good for multiline comments\n",
    "\"\"\""
   ]
  },
  {
   "attachments": {},
   "cell_type": "markdown",
   "metadata": {},
   "source": [
    "### Variables"
   ]
  },
  {
   "cell_type": "code",
   "execution_count": 3,
   "metadata": {},
   "outputs": [
    {
     "name": "stdout",
     "output_type": "stream",
     "text": [
      "My name is Kristy!\n"
     ]
    }
   ],
   "source": [
    "# f string\n",
    "\n",
    "name = \"Kristy\"\n",
    "message = f\"My name is {name}!\"\n",
    "print(message)"
   ]
  },
  {
   "cell_type": "code",
   "execution_count": 4,
   "metadata": {},
   "outputs": [
    {
     "name": "stdout",
     "output_type": "stream",
     "text": [
      "Output 1: Kristy\n",
      "Output 2: Kristy\n",
      "Output 3: Kristy\n",
      "Output 4: Kristy\n",
      "Output 5: Kristy\n"
     ]
    }
   ],
   "source": [
    "# Snake Case\n",
    "my_name = \"Kristy\"\n",
    "print(\"Output 1:\", my_name)\n",
    "\n",
    "# Camel Case\n",
    "myName = \"Kristy\"\n",
    "print(\"Output 2:\", myName)\n",
    "\n",
    "# Pascal Case\n",
    "MyName = \"Kristy\"\n",
    "print(\"Output 3:\", MyName)\n",
    "\n",
    "_myname = \"Kristy\"\n",
    "print(\"Output 4:\", _myname)\n",
    "\n",
    "MYNAME = \"Kristy\"\n",
    "print(\"Output 5:\", MYNAME)\n",
    "\n",
    "# Illegal variables\n",
    "    # my-name = - not permitted\n",
    "    # 1myname = number not permitted"
   ]
  },
  {
   "cell_type": "code",
   "execution_count": 48,
   "metadata": {},
   "outputs": [
    {
     "name": "stdout",
     "output_type": "stream",
     "text": [
      "orange\n",
      "orange\n",
      "orange\n"
     ]
    }
   ],
   "source": [
    "# one value to multiple variables\n",
    "\n",
    "x = y = z = \"orange\"\n",
    "print(x)\n",
    "print(y)\n",
    "print(z)"
   ]
  },
  {
   "cell_type": "code",
   "execution_count": 53,
   "metadata": {},
   "outputs": [
    {
     "name": "stdout",
     "output_type": "stream",
     "text": [
      "['apple', 'banana', 'cherry']\n",
      "apple\n",
      "banana\n",
      "cherry\n"
     ]
    }
   ],
   "source": [
    "# unpack a collection\n",
    "# extract the values into variables\n",
    "\n",
    "fruits = [\"apple\", \"banana\", \"cherry\"]\n",
    "x,y,z = fruits\n",
    "\n",
    "print(fruits)\n",
    "print(x)\n",
    "print(y)\n",
    "print(z)"
   ]
  },
  {
   "cell_type": "code",
   "execution_count": 56,
   "metadata": {},
   "outputs": [
    {
     "name": "stdout",
     "output_type": "stream",
     "text": [
      "output 1: Python is awesome\n",
      "output 2:Pythonisawesome\n"
     ]
    }
   ],
   "source": [
    "x = \"Python\"\n",
    "y = \"is\"\n",
    "z = \"awesome\"\n",
    "print(\"output 1:\", x, y, z)\n",
    "print(\"output 2:\" + x + y + z)"
   ]
  },
  {
   "attachments": {},
   "cell_type": "markdown",
   "metadata": {},
   "source": [
    "#### Global Variables outside functions\n"
   ]
  },
  {
   "cell_type": "code",
   "execution_count": 57,
   "metadata": {},
   "outputs": [
    {
     "name": "stdout",
     "output_type": "stream",
     "text": [
      "python is awesome\n"
     ]
    }
   ],
   "source": [
    "# intialise variables\n",
    "x = \"awesome\"\n",
    "\n",
    "# create function\n",
    "def myfunction():\n",
    "    print(\"python is\", x)\n",
    "\n",
    "# call function\n",
    "myfunction()\n"
   ]
  },
  {
   "cell_type": "code",
   "execution_count": 59,
   "metadata": {},
   "outputs": [
    {
     "name": "stdout",
     "output_type": "stream",
     "text": [
      "Output within function: Python is fantastic\n",
      "Output outside function: Python is awesome\n"
     ]
    }
   ],
   "source": [
    "x = \"awesome\"\n",
    "\n",
    "def myfunc():\n",
    "  x = \"fantastic\"\n",
    "  # x overrides global within function\n",
    "  print(\"Output within function: \" + \"Python is \" + x)\n",
    "\n",
    "myfunc()\n",
    "\n",
    "print(\"Output outside function: \" + \"Python is \" + x)\n",
    "# print cant see function variable x, so prints global x"
   ]
  },
  {
   "cell_type": "code",
   "execution_count": 60,
   "metadata": {},
   "outputs": [
    {
     "name": "stdout",
     "output_type": "stream",
     "text": [
      "Python is fantastic\n"
     ]
    }
   ],
   "source": [
    "def myfunc():\n",
    "  global x\n",
    "  # makes it accessible outside function\n",
    "  x = \"fantastic\"\n",
    "\n",
    "myfunc()\n",
    "\n",
    "print(\"Python is \" + x)"
   ]
  },
  {
   "cell_type": "code",
   "execution_count": 61,
   "metadata": {},
   "outputs": [
    {
     "name": "stdout",
     "output_type": "stream",
     "text": [
      "Python is fantastic\n"
     ]
    }
   ],
   "source": [
    "x = \"awesome\"\n",
    "# global\n",
    "\n",
    "def myfunc():\n",
    "  global x\n",
    "  # overrides existing global x\n",
    "  x = \"fantastic\"\n",
    "\n",
    "myfunc()\n",
    "\n",
    "print(\"Python is \" + x)"
   ]
  },
  {
   "attachments": {},
   "cell_type": "markdown",
   "metadata": {},
   "source": [
    "### Conditionals"
   ]
  },
  {
   "cell_type": "code",
   "execution_count": 38,
   "metadata": {},
   "outputs": [
    {
     "name": "stdout",
     "output_type": "stream",
     "text": [
      "Output 1: Five is greater than two!\n"
     ]
    }
   ],
   "source": [
    "if 5 > 2:\n",
    "    print(\"Output 1:\", \"Five is greater than two!\")"
   ]
  },
  {
   "cell_type": "code",
   "execution_count": 39,
   "metadata": {},
   "outputs": [
    {
     "name": "stdout",
     "output_type": "stream",
     "text": [
      "Output 1: 5 is greater than 2\n",
      "Output 2: 5\n",
      "Output 3: <class 'int'>\n",
      "Output 4: John\n",
      "Output 5: <class 'str'>\n",
      "Output 6: 3.4\n",
      "Output 7: <class 'float'>\n",
      "Output 8: 6\n",
      "Output 9: <class 'int'>\n"
     ]
    }
   ],
   "source": [
    "x = 5\n",
    "y = 2\n",
    "if x > 2:\n",
    "    print(\"Output 1:\", x, \"is greater than\", y)\n",
    "\n",
    "y = \"John\"\n",
    "z = 3.4\n",
    "X = 6\n",
    "\n",
    "print(\"Output 2:\", x)\n",
    "print(\"Output 3:\", type(x))\n",
    "print(\"Output 4:\", y)\n",
    "print(\"Output 5:\", type(y))\n",
    "print(\"Output 6:\", z)\n",
    "print(\"Output 7:\", type(z))\n",
    "print(\"Output 8:\", X)\n",
    "print(\"Output 9:\", type(X))"
   ]
  },
  {
   "attachments": {},
   "cell_type": "markdown",
   "metadata": {},
   "source": [
    "### Loops"
   ]
  },
  {
   "cell_type": "code",
   "execution_count": 42,
   "metadata": {},
   "outputs": [
    {
     "name": "stdout",
     "output_type": "stream",
     "text": [
      "5\n",
      "6\n",
      "8\n",
      "3.5\n",
      "1\n"
     ]
    }
   ],
   "source": [
    "numbers = [5,6,8,3.5,1]\n",
    "\n",
    "for number in numbers:\n",
    "    print(number)"
   ]
  },
  {
   "cell_type": "code",
   "execution_count": 44,
   "metadata": {},
   "outputs": [
    {
     "name": "stdout",
     "output_type": "stream",
     "text": [
      "row1 col1\n",
      "row1 col2\n",
      "row1 col3\n",
      "row2 col1\n",
      "row2 col2\n",
      "row2 col3\n",
      "row2 col1\n",
      "row2 col2\n",
      "row2 col3\n"
     ]
    }
   ],
   "source": [
    "rows = [\"row1\", \"row2\", \"row2\"]\n",
    "cols = [\"col1\", \"col2\", \"col3\"]\n",
    "\n",
    "for row in rows:\n",
    "    for col in cols:\n",
    "        print(row, col)"
   ]
  },
  {
   "cell_type": "code",
   "execution_count": 45,
   "metadata": {},
   "outputs": [
    {
     "name": "stdout",
     "output_type": "stream",
     "text": [
      "row1 col1\n",
      "row1 col2\n",
      "row1 col3\n",
      "row2 col1\n",
      "row2 col2\n",
      "row2 col3\n"
     ]
    }
   ],
   "source": [
    "rows = [\"row1\", \"row2\"]\n",
    "cols = [\"col1\", \"col2\", \"col3\"]\n",
    "\n",
    "for row in rows:\n",
    "    for col in cols:\n",
    "        print(row, col)"
   ]
  },
  {
   "cell_type": "code",
   "execution_count": 46,
   "metadata": {},
   "outputs": [
    {
     "name": "stdout",
     "output_type": "stream",
     "text": [
      "row1 col1\n",
      "row1 col2\n",
      "row2 col1\n",
      "row2 col2\n",
      "row2 col1\n",
      "row2 col2\n"
     ]
    }
   ],
   "source": [
    "rows = [\"row1\", \"row2\", \"row2\"]\n",
    "cols = [\"col1\", \"col2\"]\n",
    "\n",
    "for row in rows:\n",
    "    for col in cols:\n",
    "        print(row, col)"
   ]
  },
  {
   "cell_type": "code",
   "execution_count": 54,
   "metadata": {},
   "outputs": [
    {
     "name": "stdout",
     "output_type": "stream",
     "text": [
      "row1 col1\n"
     ]
    }
   ],
   "source": [
    "rows = [\"row1\"]\n",
    "cols = [\"col1\"]\n",
    "\n",
    "for row in rows:\n",
    "    for col in cols:\n",
    "        print(row, col)"
   ]
  }
 ],
 "metadata": {
  "kernelspec": {
   "display_name": "Python 3",
   "language": "python",
   "name": "python3"
  },
  "language_info": {
   "codemirror_mode": {
    "name": "ipython",
    "version": 3
   },
   "file_extension": ".py",
   "mimetype": "text/x-python",
   "name": "python",
   "nbconvert_exporter": "python",
   "pygments_lexer": "ipython3",
   "version": "3.9.6"
  },
  "orig_nbformat": 4
 },
 "nbformat": 4,
 "nbformat_minor": 2
}
