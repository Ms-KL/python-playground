{
 "cells": [
  {
   "attachments": {},
   "cell_type": "markdown",
   "metadata": {},
   "source": [
    "# Variables and User Input\n",
    "Resource: [She Codes Plus Variables & User Input](https://shecodes.thinkific.com/courses/take/she-codes-plus-perth-22-23/pdfs/38847801-variables-and-user-input)"
   ]
  },
  {
   "cell_type": "code",
   "execution_count": 2,
   "metadata": {},
   "outputs": [
    {
     "name": "stdout",
     "output_type": "stream",
     "text": [
      "<class 'str'>\n",
      "Today is Saturday!\n",
      "Today is Saturday, 8th of March in 2023\n"
     ]
    }
   ],
   "source": [
    "# --- f string\n",
    "\n",
    "day = \"Saturday\"\n",
    "print(type(day))\n",
    "\n",
    "message = f\"Today is {day}!\"\n",
    "print(message)\n",
    "\n",
    "date = \"8th\"\n",
    "month = \"March\"\n",
    "year = \"2023\"\n",
    "\n",
    "message = f\"Today is {day}, {date} of {month} in {year}\"\n",
    "print(message)"
   ]
  },
  {
   "cell_type": "code",
   "execution_count": 8,
   "metadata": {},
   "outputs": [
    {
     "name": "stdout",
     "output_type": "stream",
     "text": [
      "run1_dist in km: 1.4\n",
      "run4_dist in m: 1350.0\n",
      "run1_dist remaining: 600\n",
      "run4_dist remaining: 0.6499999999999999\n"
     ]
    }
   ],
   "source": [
    "# --- Integer\n",
    "# run distance in m\n",
    "run1_dist = 1400\n",
    "run2_dist = 1800\n",
    "\n",
    "# --- Addition of integers\n",
    "total_distance = run1_dist + run2_dist\n",
    "\n",
    "# --- Float\n",
    "# run distance in km\n",
    "run3_dist = 1.7\n",
    "run4_dist = 1.35\n",
    "\n",
    "# --- Addition of floats\n",
    "total_distance = run3_dist + run4_dist\n",
    "\n",
    "# --- Division and Multiplication\n",
    "print(\"run1_dist in km:\", run1_dist / 1000)\n",
    "print(\"run4_dist in m:\", run4_dist * 1000)\n",
    "# due to existing float, result is float\n",
    "\n",
    "# goal distance in m\n",
    "goal_in_m = 2000\n",
    "goal_in_km = goal_in_m / 1000\n",
    "\n",
    "print(\"run1_dist remaining:\", goal_in_m - run1_dist)\n",
    "print(\"run4_dist remaining:\", goal_in_km - run4_dist)\n",
    "\n"
   ]
  },
  {
   "cell_type": "code",
   "execution_count": 15,
   "metadata": {},
   "outputs": [
    {
     "name": "stdout",
     "output_type": "stream",
     "text": [
      "run1_dist has: 600m left to run (0.6 km)\n"
     ]
    }
   ],
   "source": [
    "# simplified above\n",
    "\n",
    "# runners\n",
    "run1_dist = 1400\n",
    "run2_dist = 1800\n",
    "run3_dist = 1.7\n",
    "run4_dist = 1.35\n",
    "\n",
    "# run goal\n",
    "goal_in_m = 2000\n",
    "goal_in_km = goal_in_m / 1000\n",
    "\n",
    "# total goal\n",
    "total_goal_in_m = goal_in_m * 4\n",
    "total_goal_in_km = goal_in_km * 4\n",
    "\n",
    "# output\n",
    "run1_dist_status = f\"run1_dist has: {goal_in_m-run1_dist}m left to run ({round((goal_in_km - (run1_dist/1000)),2)} km)\"\n",
    "\n",
    "print(run1_dist_status)\n"
   ]
  },
  {
   "cell_type": "code",
   "execution_count": 27,
   "metadata": {},
   "outputs": [
    {
     "name": "stdout",
     "output_type": "stream",
     "text": [
      "50003\n",
      "500050005000\n"
     ]
    }
   ],
   "source": [
    "run5_dist = \"5000\"\n",
    "print(run5_dist + \"3\")\n",
    "print(run5_dist * 3)"
   ]
  },
  {
   "cell_type": "code",
   "execution_count": 28,
   "metadata": {},
   "outputs": [
    {
     "name": "stdout",
     "output_type": "stream",
     "text": [
      "5003\n",
      "3 hello\n"
     ]
    }
   ],
   "source": [
    "# Typecasting\n",
    "run5_dist = \"5000\"\n",
    "print(int(run5_dist) + 3) # convert str to int and add 3\n",
    "print(str(3) + \" hello\") # convert to 3 to string and conc string"
   ]
  },
  {
   "cell_type": "code",
   "execution_count": 29,
   "metadata": {},
   "outputs": [
    {
     "ename": "TypeError",
     "evalue": "can only concatenate str (not \"int\") to str",
     "output_type": "error",
     "traceback": [
      "\u001b[1;31m---------------------------------------------------------------------------\u001b[0m",
      "\u001b[1;31mTypeError\u001b[0m                                 Traceback (most recent call last)",
      "\u001b[1;32mc:\\GIT\\ms-kl\\python-self-learning\\python-playground\\variables_playground.ipynb Cell 7\u001b[0m in \u001b[0;36m2\n\u001b[0;32m      <a href='vscode-notebook-cell:/c%3A/GIT/ms-kl/python-self-learning/python-playground/variables_playground.ipynb#X14sZmlsZQ%3D%3D?line=0'>1</a>\u001b[0m run5_dist \u001b[39m=\u001b[39m \u001b[39m\"\u001b[39m\u001b[39m5000\u001b[39m\u001b[39m\"\u001b[39m\n\u001b[1;32m----> <a href='vscode-notebook-cell:/c%3A/GIT/ms-kl/python-self-learning/python-playground/variables_playground.ipynb#X14sZmlsZQ%3D%3D?line=1'>2</a>\u001b[0m \u001b[39mprint\u001b[39m(run5_dist \u001b[39m+\u001b[39;49m \u001b[39m3\u001b[39;49m)\n",
      "\u001b[1;31mTypeError\u001b[0m: can only concatenate str (not \"int\") to str"
     ]
    }
   ],
   "source": [
    "run5_dist = \"5000\"\n",
    "print(run5_dist + 3) # cannot add int to string"
   ]
  },
  {
   "cell_type": "code",
   "execution_count": 30,
   "metadata": {},
   "outputs": [
    {
     "ename": "TypeError",
     "evalue": "can't multiply sequence by non-int of type 'float'",
     "output_type": "error",
     "traceback": [
      "\u001b[1;31m---------------------------------------------------------------------------\u001b[0m",
      "\u001b[1;31mTypeError\u001b[0m                                 Traceback (most recent call last)",
      "\u001b[1;32mc:\\GIT\\ms-kl\\python-self-learning\\python-playground\\variables_playground.ipynb Cell 8\u001b[0m in \u001b[0;36m2\n\u001b[0;32m      <a href='vscode-notebook-cell:/c%3A/GIT/ms-kl/python-self-learning/python-playground/variables_playground.ipynb#X20sZmlsZQ%3D%3D?line=0'>1</a>\u001b[0m run5_dist \u001b[39m=\u001b[39m \u001b[39m\"\u001b[39m\u001b[39m5000\u001b[39m\u001b[39m\"\u001b[39m\n\u001b[1;32m----> <a href='vscode-notebook-cell:/c%3A/GIT/ms-kl/python-self-learning/python-playground/variables_playground.ipynb#X20sZmlsZQ%3D%3D?line=1'>2</a>\u001b[0m \u001b[39mprint\u001b[39m(run5_dist \u001b[39m*\u001b[39;49m \u001b[39m3.0\u001b[39;49m)\n",
      "\u001b[1;31mTypeError\u001b[0m: can't multiply sequence by non-int of type 'float'"
     ]
    }
   ],
   "source": [
    "run5_dist = \"5000\"\n",
    "print(run5_dist * 3.0) # cannot add float to string"
   ]
  },
  {
   "cell_type": "code",
   "execution_count": 2,
   "metadata": {},
   "outputs": [
    {
     "name": "stdout",
     "output_type": "stream",
     "text": [
      "This is Kristy and she likes Dancing.\n"
     ]
    }
   ],
   "source": [
    "name = input(\"What is your name? \")\n",
    "hobby = input(\"Do you have a favourite hobby? \")\n",
    "print(f\"This is {name} and she likes {hobby}.\")"
   ]
  },
  {
   "cell_type": "code",
   "execution_count": 3,
   "metadata": {},
   "outputs": [
    {
     "name": "stdout",
     "output_type": "stream",
     "text": [
      "Wow, Kristy! You'll be 100 in 64 years!\n"
     ]
    }
   ],
   "source": [
    "age = input(f\"Hi {name}, how old are you? \")\n",
    "years_until_100 = 100 - int(age)\n",
    "print(f\"Wow, {name}! You'll be 100 in {years_until_100} years!\")"
   ]
  }
 ],
 "metadata": {
  "kernelspec": {
   "display_name": "Python 3",
   "language": "python",
   "name": "python3"
  },
  "language_info": {
   "codemirror_mode": {
    "name": "ipython",
    "version": 3
   },
   "file_extension": ".py",
   "mimetype": "text/x-python",
   "name": "python",
   "nbconvert_exporter": "python",
   "pygments_lexer": "ipython3",
   "version": "3.9.6"
  },
  "orig_nbformat": 4
 },
 "nbformat": 4,
 "nbformat_minor": 2
}
